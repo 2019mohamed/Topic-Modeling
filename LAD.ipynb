{
  "nbformat": 4,
  "nbformat_minor": 0,
  "metadata": {
    "colab": {
      "name": "LAD.ipynb",
      "provenance": [],
      "authorship_tag": "ABX9TyN7CZTBUjcBJUh/fpeoIZIW",
      "include_colab_link": true
    },
    "kernelspec": {
      "name": "python3",
      "display_name": "Python 3"
    },
    "language_info": {
      "name": "python"
    }
  },
  "cells": [
    {
      "cell_type": "markdown",
      "metadata": {
        "id": "view-in-github",
        "colab_type": "text"
      },
      "source": [
        "<a href=\"https://colab.research.google.com/github/2019mohamed/Topic-Modeling/blob/main/LAD.ipynb\" target=\"_parent\"><img src=\"https://colab.research.google.com/assets/colab-badge.svg\" alt=\"Open In Colab\"/></a>"
      ]
    },
    {
      "cell_type": "code",
      "metadata": {
        "id": "gbRMRO2tc_iL"
      },
      "source": [
        "from sklearn.datasets import fetch_20newsgroups \n",
        "from sklearn.feature_extraction.text import CountVectorizer\n",
        "from sklearn.decomposition import LatentDirichletAllocation\n",
        "\n",
        "dataset = fetch_20newsgroups(subset = 'train' , shuffle = True)\n",
        "vectorizer = CountVectorizer()\n",
        "X = vectorizer.fit_transform(dataset.data).toarray()\n",
        "\n",
        "LDA = LatentDirichletAllocation(n_components = 20).fit(X)\n",
        "test_data = fetch_20newsgroups(subset = 'test' , shuffle = True)\n",
        "acc = LDA.score(test_data.data , test_data.target)\n",
        "print(acc)\n",
        "\n",
        "\n"
      ],
      "execution_count": null,
      "outputs": []
    }
  ]
}